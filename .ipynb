{
 "cells": [
  {
   "cell_type": "code",
   "execution_count": 2,
   "metadata": {},
   "outputs": [],
   "source": [
    "# Import the Pandas package\n",
    "import pandas as pd\n",
    "\n",
    "# Import the NumPy package\n",
    "import numpy as np"
   ]
  },
  {
   "cell_type": "code",
   "execution_count": 4,
   "metadata": {},
   "outputs": [],
   "source": [
    "df = pd.read_csv(\"eo_il.csv\")"
   ]
  },
  {
   "cell_type": "code",
   "execution_count": 9,
   "metadata": {},
   "outputs": [
    {
     "data": {
      "text/html": [
       "<div>\n",
       "<style scoped>\n",
       "    .dataframe tbody tr th:only-of-type {\n",
       "        vertical-align: middle;\n",
       "    }\n",
       "\n",
       "    .dataframe tbody tr th {\n",
       "        vertical-align: top;\n",
       "    }\n",
       "\n",
       "    .dataframe thead th {\n",
       "        text-align: right;\n",
       "    }\n",
       "</style>\n",
       "<table border=\"1\" class=\"dataframe\">\n",
       "  <thead>\n",
       "    <tr style=\"text-align: right;\">\n",
       "      <th></th>\n",
       "      <th>EIN</th>\n",
       "      <th>NAME</th>\n",
       "      <th>ICO</th>\n",
       "      <th>STREET</th>\n",
       "      <th>CITY</th>\n",
       "      <th>STATE</th>\n",
       "      <th>ZIP</th>\n",
       "      <th>GROUP</th>\n",
       "      <th>SUBSECTION</th>\n",
       "      <th>AFFILIATION</th>\n",
       "      <th>...</th>\n",
       "      <th>ASSET_CD</th>\n",
       "      <th>INCOME_CD</th>\n",
       "      <th>FILING_REQ_CD</th>\n",
       "      <th>PF_FILING_REQ_CD</th>\n",
       "      <th>ACCT_PD</th>\n",
       "      <th>ASSET_AMT</th>\n",
       "      <th>INCOME_AMT</th>\n",
       "      <th>REVENUE_AMT</th>\n",
       "      <th>NTEE_CD</th>\n",
       "      <th>SORT_NAME</th>\n",
       "    </tr>\n",
       "  </thead>\n",
       "  <tbody>\n",
       "    <tr>\n",
       "      <th>0</th>\n",
       "      <td>3390819</td>\n",
       "      <td>REP RESOURCES EMPOWERING PARENTS</td>\n",
       "      <td>NaN</td>\n",
       "      <td>710 CR 1350 N</td>\n",
       "      <td>SULLIVAN</td>\n",
       "      <td>IL</td>\n",
       "      <td>61951-0000</td>\n",
       "      <td>0</td>\n",
       "      <td>3</td>\n",
       "      <td>3</td>\n",
       "      <td>...</td>\n",
       "      <td>0</td>\n",
       "      <td>0</td>\n",
       "      <td>2</td>\n",
       "      <td>0</td>\n",
       "      <td>12</td>\n",
       "      <td>NaN</td>\n",
       "      <td>NaN</td>\n",
       "      <td>NaN</td>\n",
       "      <td>P82</td>\n",
       "      <td>NaN</td>\n",
       "    </tr>\n",
       "    <tr>\n",
       "      <th>1</th>\n",
       "      <td>10438881</td>\n",
       "      <td>SHADY NOOK IMPROVEMENT ASSOCIATION INC</td>\n",
       "      <td>NaN</td>\n",
       "      <td>629 W ELM ST</td>\n",
       "      <td>WHEATON</td>\n",
       "      <td>IL</td>\n",
       "      <td>60189-6352</td>\n",
       "      <td>0</td>\n",
       "      <td>4</td>\n",
       "      <td>3</td>\n",
       "      <td>...</td>\n",
       "      <td>5</td>\n",
       "      <td>3</td>\n",
       "      <td>1</td>\n",
       "      <td>0</td>\n",
       "      <td>12</td>\n",
       "      <td>767201.0</td>\n",
       "      <td>85303.0</td>\n",
       "      <td>82703.0</td>\n",
       "      <td>NaN</td>\n",
       "      <td>NaN</td>\n",
       "    </tr>\n",
       "    <tr>\n",
       "      <th>2</th>\n",
       "      <td>10482439</td>\n",
       "      <td>MODERN WOODMEN OF AMERICA</td>\n",
       "      <td>% CHAPTER SERVICE DEPT</td>\n",
       "      <td>1701 1ST AVE</td>\n",
       "      <td>ROCK ISLAND</td>\n",
       "      <td>IL</td>\n",
       "      <td>61201-8724</td>\n",
       "      <td>1519</td>\n",
       "      <td>8</td>\n",
       "      <td>9</td>\n",
       "      <td>...</td>\n",
       "      <td>0</td>\n",
       "      <td>0</td>\n",
       "      <td>2</td>\n",
       "      <td>0</td>\n",
       "      <td>12</td>\n",
       "      <td>0.0</td>\n",
       "      <td>0.0</td>\n",
       "      <td>0.0</td>\n",
       "      <td>NaN</td>\n",
       "      <td>10532</td>\n",
       "    </tr>\n",
       "    <tr>\n",
       "      <th>3</th>\n",
       "      <td>10492125</td>\n",
       "      <td>ALLIANCE OF INDEPENDENT ACADEMIC MEDICAL CENTERS</td>\n",
       "      <td>% F STEPHEN LARNED MD</td>\n",
       "      <td>401 N MICHIGAN AVE STE 1200</td>\n",
       "      <td>CHICAGO</td>\n",
       "      <td>IL</td>\n",
       "      <td>60611-4264</td>\n",
       "      <td>0</td>\n",
       "      <td>3</td>\n",
       "      <td>3</td>\n",
       "      <td>...</td>\n",
       "      <td>4</td>\n",
       "      <td>4</td>\n",
       "      <td>1</td>\n",
       "      <td>0</td>\n",
       "      <td>12</td>\n",
       "      <td>486525.0</td>\n",
       "      <td>493984.0</td>\n",
       "      <td>493984.0</td>\n",
       "      <td>H05</td>\n",
       "      <td>NaN</td>\n",
       "    </tr>\n",
       "    <tr>\n",
       "      <th>4</th>\n",
       "      <td>10516987</td>\n",
       "      <td>ASSOCIATION OF PEDIATRIC ONCOLOGY NURSES</td>\n",
       "      <td>% DAVE BERGESON</td>\n",
       "      <td>8735 W HIGGINS RD STE 300</td>\n",
       "      <td>CHICAGO</td>\n",
       "      <td>IL</td>\n",
       "      <td>60631-2738</td>\n",
       "      <td>9342</td>\n",
       "      <td>3</td>\n",
       "      <td>9</td>\n",
       "      <td>...</td>\n",
       "      <td>0</td>\n",
       "      <td>0</td>\n",
       "      <td>2</td>\n",
       "      <td>0</td>\n",
       "      <td>12</td>\n",
       "      <td>0.0</td>\n",
       "      <td>0.0</td>\n",
       "      <td>0.0</td>\n",
       "      <td>NaN</td>\n",
       "      <td>APHON MAINE CHAPTER</td>\n",
       "    </tr>\n",
       "  </tbody>\n",
       "</table>\n",
       "<p>5 rows × 28 columns</p>\n",
       "</div>"
      ],
      "text/plain": [
       "        EIN                                              NAME  \\\n",
       "0   3390819                  REP RESOURCES EMPOWERING PARENTS   \n",
       "1  10438881            SHADY NOOK IMPROVEMENT ASSOCIATION INC   \n",
       "2  10482439                         MODERN WOODMEN OF AMERICA   \n",
       "3  10492125  ALLIANCE OF INDEPENDENT ACADEMIC MEDICAL CENTERS   \n",
       "4  10516987          ASSOCIATION OF PEDIATRIC ONCOLOGY NURSES   \n",
       "\n",
       "                      ICO                       STREET         CITY STATE  \\\n",
       "0                     NaN                710 CR 1350 N     SULLIVAN    IL   \n",
       "1                     NaN                 629 W ELM ST      WHEATON    IL   \n",
       "2  % CHAPTER SERVICE DEPT                 1701 1ST AVE  ROCK ISLAND    IL   \n",
       "3   % F STEPHEN LARNED MD  401 N MICHIGAN AVE STE 1200      CHICAGO    IL   \n",
       "4         % DAVE BERGESON    8735 W HIGGINS RD STE 300      CHICAGO    IL   \n",
       "\n",
       "          ZIP  GROUP  SUBSECTION  AFFILIATION         ...           ASSET_CD  \\\n",
       "0  61951-0000      0           3            3         ...                  0   \n",
       "1  60189-6352      0           4            3         ...                  5   \n",
       "2  61201-8724   1519           8            9         ...                  0   \n",
       "3  60611-4264      0           3            3         ...                  4   \n",
       "4  60631-2738   9342           3            9         ...                  0   \n",
       "\n",
       "   INCOME_CD  FILING_REQ_CD  PF_FILING_REQ_CD  ACCT_PD  ASSET_AMT  INCOME_AMT  \\\n",
       "0          0              2                 0       12        NaN         NaN   \n",
       "1          3              1                 0       12   767201.0     85303.0   \n",
       "2          0              2                 0       12        0.0         0.0   \n",
       "3          4              1                 0       12   486525.0    493984.0   \n",
       "4          0              2                 0       12        0.0         0.0   \n",
       "\n",
       "   REVENUE_AMT  NTEE_CD            SORT_NAME  \n",
       "0          NaN      P82                  NaN  \n",
       "1      82703.0      NaN                  NaN  \n",
       "2          0.0      NaN                10532  \n",
       "3     493984.0      H05                  NaN  \n",
       "4          0.0      NaN  APHON MAINE CHAPTER  \n",
       "\n",
       "[5 rows x 28 columns]"
      ]
     },
     "execution_count": 9,
     "metadata": {},
     "output_type": "execute_result"
    }
   ],
   "source": [
    "df.head()"
   ]
  },
  {
   "cell_type": "code",
   "execution_count": 6,
   "metadata": {},
   "outputs": [
    {
     "data": {
      "text/plain": [
       "(70509, 28)"
      ]
     },
     "execution_count": 6,
     "metadata": {},
     "output_type": "execute_result"
    }
   ],
   "source": [
    "df.shape"
   ]
  },
  {
   "cell_type": "code",
   "execution_count": 8,
   "metadata": {},
   "outputs": [
    {
     "data": {
      "text/plain": [
       "0    1200\n",
       "1    1000\n",
       "2    1000\n",
       "3    2000\n",
       "4    2000\n",
       "Name: CLASSIFICATION, dtype: int64"
      ]
     },
     "execution_count": 8,
     "metadata": {},
     "output_type": "execute_result"
    }
   ],
   "source": [
    "df[\"CLASSIFICATION\"].head()"
   ]
  },
  {
   "cell_type": "code",
   "execution_count": 20,
   "metadata": {},
   "outputs": [
    {
     "data": {
      "text/plain": [
       "70504    2000\n",
       "70505    1000\n",
       "70506    1000\n",
       "70507    7000\n",
       "70508    2000\n",
       "Name: CLASSIFICATION, dtype: int64"
      ]
     },
     "execution_count": 20,
     "metadata": {},
     "output_type": "execute_result"
    }
   ],
   "source": [
    "df[\"CLASSIFICATION\"].tail()"
   ]
  },
  {
   "cell_type": "code",
   "execution_count": 12,
   "metadata": {},
   "outputs": [],
   "source": [
    "classification = df[\"CLASSIFICATION\"]"
   ]
  },
  {
   "cell_type": "code",
   "execution_count": 21,
   "metadata": {},
   "outputs": [
    {
     "data": {
      "text/plain": [
       "1000    34965\n",
       "2000    10589\n",
       "7000     9274\n",
       "1200     6775\n",
       "3000     3509\n",
       "1700     1181\n",
       "1270      662\n",
       "7100      537\n",
       "2100      459\n",
       "4000      296\n",
       "1230      231\n",
       "2700      221\n",
       "1300      213\n",
       "2800      181\n",
       "1280      179\n",
       "7200      105\n",
       "1400      103\n",
       "1250       89\n",
       "1237       86\n",
       "2300       82\n",
       "1278       70\n",
       "7120       66\n",
       "8000       62\n",
       "1240       58\n",
       "1238       52\n",
       "1235       48\n",
       "1800       40\n",
       "6000       32\n",
       "0          31\n",
       "5000       30\n",
       "        ...  \n",
       "1247        2\n",
       "1256        2\n",
       "9000        2\n",
       "1258        2\n",
       "1380        2\n",
       "2180        1\n",
       "7800        1\n",
       "1920        1\n",
       "4600        1\n",
       "2310        1\n",
       "1670        1\n",
       "1290        1\n",
       "2160        1\n",
       "2570        1\n",
       "9500        1\n",
       "8100        1\n",
       "2410        1\n",
       "1568        1\n",
       "7900        1\n",
       "1820        1\n",
       "1370        1\n",
       "2350        1\n",
       "5710        1\n",
       "2710        1\n",
       "6100        1\n",
       "2480        1\n",
       "2450        1\n",
       "5200        1\n",
       "2356        1\n",
       "1246        1\n",
       "Name: CLASSIFICATION, Length: 95, dtype: int64"
      ]
     },
     "execution_count": 21,
     "metadata": {},
     "output_type": "execute_result"
    }
   ],
   "source": [
    "class_count = classification.value_counts()\n",
    "class_count"
   ]
  },
  {
   "cell_type": "code",
   "execution_count": 23,
   "metadata": {},
   "outputs": [
    {
     "data": {
      "text/plain": [
       "(0, 1000]         34967\n",
       "(1000, 2000]      20511\n",
       "(2000, 3000]       4503\n",
       "(3000, 4000]        324\n",
       "(4000, 5000]         47\n",
       "(5000, 6000]         36\n",
       "(6000, 7000]       9275\n",
       "(7000, 8000]        801\n",
       "(8000, 9000]         13\n",
       "(9000, 10000]         1\n",
       "(10000, 11000]        0\n",
       "Name: CLASSIFICATION, dtype: int64"
      ]
     },
     "execution_count": 23,
     "metadata": {},
     "output_type": "execute_result"
    }
   ],
   "source": [
    "# Let's define our bins (the boundaries of the subgroups)\n",
    "bins = [0,1000,2000,3000,4000,5000,6000,7000,8000,9000,10000,11000] # These are given in millions of shares\n",
    "freq  = pd.cut(df[\"CLASSIFICATION\"], bins=bins) # This \"cuts\" the Volume_Millions Series into the bins\n",
    "freq = freq.value_counts(sort=False) # Now we count the number of elements inside each bin. We use sort=False to avoid having our groups sorted by size\n",
    "freq # The result is our frequency table. Freq is actually a Series in which the index is the bins and the data are the counts"
   ]
  },
  {
   "cell_type": "code",
   "execution_count": 24,
   "metadata": {},
   "outputs": [
    {
     "data": {
      "text/plain": [
       "<matplotlib.axes._subplots.AxesSubplot at 0x7f29453a9438>"
      ]
     },
     "execution_count": 24,
     "metadata": {},
     "output_type": "execute_result"
    },
    {
     "data": {
      "image/png": "[encoded data removed]",
      "text/plain": [
       "<Figure size 432x288 with 1 Axes>"
      ]
     },
     "metadata": {
      "needs_background": "light"
     },
     "output_type": "display_data"
    }
   ],
   "source": [
    "df[\"CLASSIFICATION\"].plot.hist(bins=bins) # Pandas computes the frequency table under the hood and plots it "
   ]
  },
  {
   "cell_type": "code",
   "execution_count": 22,
   "metadata": {},
   "outputs": [
    {
     "data": {
      "text/plain": [
       "<matplotlib.axes._subplots.AxesSubplot at 0x7f2945435d68>"
      ]
     },
     "execution_count": 22,
     "metadata": {},
     "output_type": "execute_result"
    },
    {
     "data": {
      "image/png": "[encoded data removed]",
      "text/plain": [
       "<Figure size 432x288 with 1 Axes>"
      ]
     },
     "metadata": {
      "needs_background": "light"
     },
     "output_type": "display_data"
    }
   ],
   "source": [
    "class_count.plot.hist()"
   ]
  },
  {
   "cell_type": "code",
   "execution_count": 25,
   "metadata": {},
   "outputs": [],
   "source": [
    "class_head = class_count.head()"
   ]
  },
  {
   "cell_type": "code",
   "execution_count": 26,
   "metadata": {},
   "outputs": [
    {
     "data": {
      "text/plain": [
       "<matplotlib.axes._subplots.AxesSubplot at 0x7f294531f7b8>"
      ]
     },
     "execution_count": 26,
     "metadata": {},
     "output_type": "execute_result"
    },
    {
     "data": {
      "image/png": "[encoded data removed]",
      "text/plain": [
       "<Figure size 432x288 with 1 Axes>"
      ]
     },
     "metadata": {
      "needs_background": "light"
     },
     "output_type": "display_data"
    }
   ],
   "source": [
    "class_head.plot.hist()"
   ]
  },
  {
   "cell_type": "code",
   "execution_count": null,
   "metadata": {},
   "outputs": [],
   "source": []
  }
 ],
 "metadata": {
  "kernelspec": {
   "display_name": "Python 3",
   "language": "python",
   "name": "python3"
  },
  "language_info": {
   "codemirror_mode": {
    "name": "ipython",
    "version": 3
   },
   "file_extension": ".py",
   "mimetype": "text/x-python",
   "name": "python",
   "nbconvert_exporter": "python",
   "pygments_lexer": "ipython3",
   "version": "3.6.7"
  }
 },
 "nbformat": 4,
 "nbformat_minor": 2
}
